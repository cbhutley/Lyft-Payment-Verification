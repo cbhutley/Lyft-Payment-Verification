{
 "cells": [
  {
   "cell_type": "code",
   "execution_count": 2,
   "id": "e4981ea6-be56-4d78-bdd6-2123c50bb25e",
   "metadata": {},
   "outputs": [],
   "source": [
    "#import modules\n",
    "import pandas as pd\n",
    "import numpy as np"
   ]
  },
  {
   "cell_type": "code",
   "execution_count": 3,
   "id": "6f628c8f-cacd-461e-90d9-a34d96f6a079",
   "metadata": {},
   "outputs": [],
   "source": [
    "#import data from CSV I created in excel\n",
    "df = pd.read_csv('lyft week data.csv')"
   ]
  },
  {
   "cell_type": "code",
   "execution_count": 4,
   "id": "1b7afe9f-c469-4cdc-a43c-3b40f77db1f3",
   "metadata": {},
   "outputs": [],
   "source": [
    "#Remove extra columns\n",
    "df = df.drop(columns=[\"Unnamed: 9\",\"Unnamed: 10\",\"Unnamed: 11\",\"Unnamed: 12\",\"Unnamed: 13\",\"Unnamed: 14\",\"Unnamed: 15\",\"Unnamed: 16\",\"Unnamed: 17\",\"Unnamed: 18\",\"Unnamed: 19\",\"Unnamed: 20\"])"
   ]
  },
  {
   "cell_type": "code",
   "execution_count": 5,
   "id": "02caefcf-af0c-4a40-84f0-8ca5f981e112",
   "metadata": {},
   "outputs": [],
   "source": [
    "#Filter the dataframe so there are no adjustments included\n",
    "rdf = df[df['Date'] != \"Adjustment\"]"
   ]
  },
  {
   "cell_type": "code",
   "execution_count": 6,
   "id": "be78acab-4e5f-4e76-ad3e-35b8d1d90c18",
   "metadata": {},
   "outputs": [
    {
     "data": {
      "text/html": [
       "<div>\n",
       "<style scoped>\n",
       "    .dataframe tbody tr th:only-of-type {\n",
       "        vertical-align: middle;\n",
       "    }\n",
       "\n",
       "    .dataframe tbody tr th {\n",
       "        vertical-align: top;\n",
       "    }\n",
       "\n",
       "    .dataframe thead th {\n",
       "        text-align: right;\n",
       "    }\n",
       "</style>\n",
       "<table border=\"1\" class=\"dataframe\">\n",
       "  <thead>\n",
       "    <tr style=\"text-align: right;\">\n",
       "      <th></th>\n",
       "      <th>Date</th>\n",
       "      <th>Total Earnings</th>\n",
       "      <th>Base Earning</th>\n",
       "      <th>Tip</th>\n",
       "      <th>Bonus</th>\n",
       "      <th>Wait Pay</th>\n",
       "      <th>Passenger Pay</th>\n",
       "      <th>Lyft Fees</th>\n",
       "      <th>External Fees</th>\n",
       "    </tr>\n",
       "  </thead>\n",
       "  <tbody>\n",
       "    <tr>\n",
       "      <th>0</th>\n",
       "      <td>9/9/2025</td>\n",
       "      <td>6.24</td>\n",
       "      <td>4.75</td>\n",
       "      <td>0.0</td>\n",
       "      <td>1.42</td>\n",
       "      <td>0.07</td>\n",
       "      <td>9.99</td>\n",
       "      <td>2.61</td>\n",
       "      <td>1.14</td>\n",
       "    </tr>\n",
       "    <tr>\n",
       "      <th>1</th>\n",
       "      <td>9/9/2025</td>\n",
       "      <td>7.16</td>\n",
       "      <td>5.97</td>\n",
       "      <td>0.0</td>\n",
       "      <td>1.19</td>\n",
       "      <td>0.00</td>\n",
       "      <td>13.60</td>\n",
       "      <td>4.47</td>\n",
       "      <td>1.97</td>\n",
       "    </tr>\n",
       "    <tr>\n",
       "      <th>2</th>\n",
       "      <td>9/9/2025</td>\n",
       "      <td>7.05</td>\n",
       "      <td>5.88</td>\n",
       "      <td>0.0</td>\n",
       "      <td>1.17</td>\n",
       "      <td>0.00</td>\n",
       "      <td>9.99</td>\n",
       "      <td>1.73</td>\n",
       "      <td>1.21</td>\n",
       "    </tr>\n",
       "    <tr>\n",
       "      <th>3</th>\n",
       "      <td>9/9/2025</td>\n",
       "      <td>7.16</td>\n",
       "      <td>5.51</td>\n",
       "      <td>0.0</td>\n",
       "      <td>1.65</td>\n",
       "      <td>0.00</td>\n",
       "      <td>16.71</td>\n",
       "      <td>5.03</td>\n",
       "      <td>4.52</td>\n",
       "    </tr>\n",
       "    <tr>\n",
       "      <th>4</th>\n",
       "      <td>9/9/2025</td>\n",
       "      <td>9.22</td>\n",
       "      <td>4.64</td>\n",
       "      <td>0.0</td>\n",
       "      <td>1.39</td>\n",
       "      <td>0.19</td>\n",
       "      <td>10.96</td>\n",
       "      <td>0.54</td>\n",
       "      <td>1.20</td>\n",
       "    </tr>\n",
       "  </tbody>\n",
       "</table>\n",
       "</div>"
      ],
      "text/plain": [
       "       Date  Total Earnings  Base Earning  Tip  Bonus  Wait Pay  \\\n",
       "0  9/9/2025            6.24          4.75  0.0   1.42      0.07   \n",
       "1  9/9/2025            7.16          5.97  0.0   1.19      0.00   \n",
       "2  9/9/2025            7.05          5.88  0.0   1.17      0.00   \n",
       "3  9/9/2025            7.16          5.51  0.0   1.65      0.00   \n",
       "4  9/9/2025            9.22          4.64  0.0   1.39      0.19   \n",
       "\n",
       "   Passenger Pay  Lyft Fees  External Fees  \n",
       "0           9.99       2.61           1.14  \n",
       "1          13.60       4.47           1.97  \n",
       "2           9.99       1.73           1.21  \n",
       "3          16.71       5.03           4.52  \n",
       "4          10.96       0.54           1.20  "
      ]
     },
     "execution_count": 6,
     "metadata": {},
     "output_type": "execute_result"
    }
   ],
   "source": [
    "#display head for visual verification\n",
    "rdf.head()"
   ]
  },
  {
   "cell_type": "code",
   "execution_count": 20,
   "id": "076277c4-5d0e-4006-b55d-4a6943887266",
   "metadata": {},
   "outputs": [
    {
     "name": "stdout",
     "output_type": "stream",
     "text": [
      "This Weeks Statistics\n",
      "My Total earnings: 133.62\n",
      "Total Passenger payment : 200.62\n",
      "Total Tips: 7.5\n",
      "Total Bonuses: 24.08\n",
      "Total wait pay: 0.92\n",
      "Total Lyft Fees: 48.04\n",
      "Total External Fees: 26.46\n",
      "Total base earnings: 98.12\n",
      "Total Adjustments: 15.25\n"
     ]
    }
   ],
   "source": [
    "#Create sums of each column to have totals of each attribute\n",
    "''' I did on multiple lines to not affect the format of the date'''\n",
    "\n",
    "my_earnings = rdf['Total Earnings'].sum().round(2)\n",
    "pass_pay = rdf['Passenger Pay'].sum().round(2)\n",
    "tips = rdf['Tip'].sum().round(2)\n",
    "bonuses = rdf['Bonus'].sum().round(2)\n",
    "wait_pay = rdf['Wait Pay'].sum().round(2)\n",
    "lyft_fees = rdf['Lyft Fees'].sum().round(2)\n",
    "ext_fees = rdf['External Fees'].sum().round(2)\n",
    "base_earning = rdf['Base Earning'].sum().round(2)\n",
    "\n",
    "#Print out each oof my values labeled neatly\n",
    "print('This Weeks Statistics')\n",
    "print('My Total earnings:', my_earnings)\n",
    "print('Total Passenger payment :', pass_pay)\n",
    "print('Total Tips:', tips)\n",
    "print('Total Bonuses:', bonuses)\n",
    "print('Total wait pay:', wait_pay)\n",
    "print('Total Lyft Fees:', lyft_fees)\n",
    "print('Total External Fees:', ext_fees)\n",
    "print('Total base earnings:', base_earning)\n",
    "#add adjustments\n",
    "print('Total Adjustments:', tot_adj)\n"
   ]
  },
  {
   "cell_type": "code",
   "execution_count": 8,
   "id": "e4364b97-deb4-4a1c-a44f-185f781b4f83",
   "metadata": {},
   "outputs": [
    {
     "name": "stdout",
     "output_type": "stream",
     "text": [
      "93.62\n"
     ]
    }
   ],
   "source": [
    "predictedbasepay = pass_pay - tips - lyft_fees - ext_fees - bonuses - wait_pay\n",
    "print(predictedbasepay)"
   ]
  },
  {
   "cell_type": "code",
   "execution_count": 9,
   "id": "b3422fca-3453-4472-bb5c-8c7e3539e7ba",
   "metadata": {},
   "outputs": [
    {
     "name": "stdout",
     "output_type": "stream",
     "text": [
      "4.5\n"
     ]
    }
   ],
   "source": [
    "print(base_earning - predictedbasepay)"
   ]
  },
  {
   "cell_type": "code",
   "execution_count": 10,
   "id": "97ce2f7b-b61d-4dc1-b104-f776ed78de1f",
   "metadata": {},
   "outputs": [
    {
     "data": {
      "text/html": [
       "<div>\n",
       "<style scoped>\n",
       "    .dataframe tbody tr th:only-of-type {\n",
       "        vertical-align: middle;\n",
       "    }\n",
       "\n",
       "    .dataframe tbody tr th {\n",
       "        vertical-align: top;\n",
       "    }\n",
       "\n",
       "    .dataframe thead th {\n",
       "        text-align: right;\n",
       "    }\n",
       "</style>\n",
       "<table border=\"1\" class=\"dataframe\">\n",
       "  <thead>\n",
       "    <tr style=\"text-align: right;\">\n",
       "      <th></th>\n",
       "      <th>Date</th>\n",
       "      <th>Total Earnings</th>\n",
       "      <th>Base Earning</th>\n",
       "      <th>Tip</th>\n",
       "      <th>Bonus</th>\n",
       "      <th>Wait Pay</th>\n",
       "      <th>Passenger Pay</th>\n",
       "      <th>Lyft Fees</th>\n",
       "      <th>External Fees</th>\n",
       "    </tr>\n",
       "  </thead>\n",
       "  <tbody>\n",
       "    <tr>\n",
       "      <th>9</th>\n",
       "      <td>Adjustment</td>\n",
       "      <td>2.81</td>\n",
       "      <td>0.0</td>\n",
       "      <td>0.0</td>\n",
       "      <td>0.0</td>\n",
       "      <td>0.0</td>\n",
       "      <td>0.0</td>\n",
       "      <td>0.0</td>\n",
       "      <td>0.0</td>\n",
       "    </tr>\n",
       "    <tr>\n",
       "      <th>11</th>\n",
       "      <td>Adjustment</td>\n",
       "      <td>9.88</td>\n",
       "      <td>0.0</td>\n",
       "      <td>0.0</td>\n",
       "      <td>0.0</td>\n",
       "      <td>0.0</td>\n",
       "      <td>0.0</td>\n",
       "      <td>0.0</td>\n",
       "      <td>0.0</td>\n",
       "    </tr>\n",
       "    <tr>\n",
       "      <th>16</th>\n",
       "      <td>Adjustment</td>\n",
       "      <td>2.56</td>\n",
       "      <td>0.0</td>\n",
       "      <td>0.0</td>\n",
       "      <td>0.0</td>\n",
       "      <td>0.0</td>\n",
       "      <td>0.0</td>\n",
       "      <td>0.0</td>\n",
       "      <td>0.0</td>\n",
       "    </tr>\n",
       "  </tbody>\n",
       "</table>\n",
       "</div>"
      ],
      "text/plain": [
       "          Date  Total Earnings  Base Earning  Tip  Bonus  Wait Pay  \\\n",
       "9   Adjustment            2.81           0.0  0.0    0.0       0.0   \n",
       "11  Adjustment            9.88           0.0  0.0    0.0       0.0   \n",
       "16  Adjustment            2.56           0.0  0.0    0.0       0.0   \n",
       "\n",
       "    Passenger Pay  Lyft Fees  External Fees  \n",
       "9             0.0        0.0            0.0  \n",
       "11            0.0        0.0            0.0  \n",
       "16            0.0        0.0            0.0  "
      ]
     },
     "execution_count": 10,
     "metadata": {},
     "output_type": "execute_result"
    }
   ],
   "source": [
    "adf = df[df['Date'] == \"Adjustment\"]\n",
    "tot_adj = adf['Total Earnings'].sum().round(2)\n",
    "adf"
   ]
  },
  {
   "cell_type": "code",
   "execution_count": 11,
   "id": "1fbc6896-00e8-45cd-9cd2-a6e0d2152a50",
   "metadata": {},
   "outputs": [
    {
     "name": "stdout",
     "output_type": "stream",
     "text": [
      "15.25\n"
     ]
    }
   ],
   "source": [
    "print(tot_adj)"
   ]
  },
  {
   "cell_type": "code",
   "execution_count": 12,
   "id": "a08a5aad-f640-4e55-8f94-d5f185944d49",
   "metadata": {},
   "outputs": [
    {
     "name": "stdout",
     "output_type": "stream",
     "text": [
      "Seventy percent of all passenger payments is 140.434\n"
     ]
    }
   ],
   "source": [
    "print('Seventy percent of all passenger payments is', .70 * pass_pay)"
   ]
  },
  {
   "cell_type": "code",
   "execution_count": 13,
   "id": "de5655de-d7cf-4921-a50d-6eccd99a246d",
   "metadata": {},
   "outputs": [
    {
     "name": "stdout",
     "output_type": "stream",
     "text": [
      "Seventy percent of passenger payments after Lyft and External Fees are Deducted 111.03399999999998\n"
     ]
    }
   ],
   "source": [
    "#Passenger payments with lyft fees and external fees deducted. I am gaurenteed 100% tips so those will be \n",
    "#deducted here as well as bonuses and wait pay\n",
    "pay_after_ded = pass_pay - lyft_fees - ext_fees + tips + bonuses + wait_pay\n",
    "print('Seventy percent of passenger payments after Lyft and External Fees are Deducted', .70 * pay_after_ded)\n",
    "mine = .70 * pay_after_ded"
   ]
  },
  {
   "cell_type": "code",
   "execution_count": 14,
   "id": "b75f040e-5854-4bc0-93b2-5171ea73e2cd",
   "metadata": {},
   "outputs": [
    {
     "name": "stdout",
     "output_type": "stream",
     "text": [
      "126.12\n"
     ]
    }
   ],
   "source": [
    "comparison = my_earnings - tips \n",
    "print(comparison)"
   ]
  },
  {
   "cell_type": "code",
   "execution_count": 15,
   "id": "741e28a1-2e0c-4097-8050-ccd2e47bb4cc",
   "metadata": {},
   "outputs": [
    {
     "name": "stdout",
     "output_type": "stream",
     "text": [
      "15.086000000000027\n"
     ]
    }
   ],
   "source": [
    "predicted_adj = comparison - mine\n",
    "print(predicted_adj)"
   ]
  },
  {
   "cell_type": "code",
   "execution_count": 16,
   "id": "b3a432ef-155a-4020-90b2-5d178481dff2",
   "metadata": {},
   "outputs": [
    {
     "name": "stdout",
     "output_type": "stream",
     "text": [
      "0.16399999999997306\n"
     ]
    }
   ],
   "source": [
    "print(tot_adj - predicted_adj)"
   ]
  },
  {
   "cell_type": "code",
   "execution_count": 33,
   "id": "a8202ff2-fb1c-4a74-bad5-600c36d15c4f",
   "metadata": {},
   "outputs": [],
   "source": [
    "error = (predicted_adj / tot_adj)"
   ]
  },
  {
   "cell_type": "code",
   "execution_count": 34,
   "id": "1132cabd-79a0-4968-93b6-5280e7e1e616",
   "metadata": {},
   "outputs": [
    {
     "name": "stdout",
     "output_type": "stream",
     "text": [
      "my calculations have an error of 0.989245901639346 % Accurate this week.\n",
      "70% of passenger payments after lyft fees was 111.03\n",
      "my total earnings NOT INCLUDING Tips was 126.12\n"
     ]
    }
   ],
   "source": [
    "print('my calculations have an error of', error, '% Accurate this week.')\n",
    "print('70% of passenger payments after lyft fees was', mine.round(2))\n",
    "print('my total earnings NOT INCLUDING Tips was', my_earnings - tips)"
   ]
  },
  {
   "cell_type": "code",
   "execution_count": 30,
   "id": "8d277368-9413-4ced-8662-addea5d42890",
   "metadata": {},
   "outputs": [
    {
     "name": "stdout",
     "output_type": "stream",
     "text": [
      "I made 0.63 of passenger payments before being paid adjustments\n"
     ]
    }
   ],
   "source": [
    "#define a \"before adjustment\" percentage. This is the % of customer payment i recieved before adjustments\n",
    "BA_percent = ((my_earnings - tips) / pass_pay).round(2)\n",
    "print('I made',BA_percent,'of passenger payments before being paid adjustments')"
   ]
  },
  {
   "cell_type": "code",
   "execution_count": 32,
   "id": "7344bcad-0f87-4656-9770-4d810a7c2530",
   "metadata": {},
   "outputs": [
    {
     "name": "stdout",
     "output_type": "stream",
     "text": [
      "I made 0.704665536835809 of passenger payments before being paid adjustments\n"
     ]
    }
   ],
   "source": [
    "#define a \"After adjustment\" percentage. This is the % of customer payment i recieved after adjustments\n",
    "AA_percent = ((my_earnings - tips + tot_adj) / pass_pay)\n",
    "print('I made',AA_percent,'of passenger payments before being paid adjustments')"
   ]
  },
  {
   "cell_type": "code",
   "execution_count": 35,
   "id": "5288d384-2f1d-4692-8b85-02613ea53480",
   "metadata": {},
   "outputs": [],
   "source": [
    "import matplotlib .pyplot as plt"
   ]
  },
  {
   "cell_type": "code",
   "execution_count": 36,
   "id": "7b55d4c9-6445-4e29-8a9f-de4ba5bd7ae6",
   "metadata": {},
   "outputs": [
    {
     "data": {
      "image/png": "[encoded data removed]",
      "text/plain": [
       "<Figure size 640x480 with 1 Axes>"
      ]
     },
     "metadata": {},
     "output_type": "display_data"
    }
   ],
   "source": [
    "#create a list of components to visualize\n",
    "components = {\n",
    "    \"Tips\": rdf['Tip'].sum().round(2),\n",
    "    \"Bonuses\": rdf['Bonus'].sum().round(2),\n",
    "    \"Wait Pay\": rdf['Wait Pay'].sum().round(2),\n",
    "    \"Lyft Fees\": rdf['Lyft Fees'].sum().round(2),\n",
    "    \"External Fees\": rdf['External Fees'].sum().round(2),\n",
    "    \"Base Earning\": rdf['Base Earning'].sum().round(2)\n",
    "}\n",
    "\n",
    "# Create pie chart\n",
    "plt.pie(components.values(), labels = components.keys(), autopct='%1.1f%%', startangle=90)\n",
    "plt.title(\"Distribution of Pay\")\n",
    "plt.show()"
   ]
  },
  {
   "cell_type": "code",
   "execution_count": null,
   "id": "99ca3acf-5562-4a0c-9c74-5296a4e18e35",
   "metadata": {},
   "outputs": [],
   "source": []
  },
  {
   "cell_type": "code",
   "execution_count": null,
   "id": "fe10a4e4-3672-4d97-b455-4a0d93ad832c",
   "metadata": {},
   "outputs": [],
   "source": []
  }
 ],
 "metadata": {
  "kernelspec": {
   "display_name": "Python 3 (ipykernel)",
   "language": "python",
   "name": "python3"
  },
  "language_info": {
   "codemirror_mode": {
    "name": "ipython",
    "version": 3
   },
   "file_extension": ".py",
   "mimetype": "text/x-python",
   "name": "python",
   "nbconvert_exporter": "python",
   "pygments_lexer": "ipython3",
   "version": "3.13.7"
  }
 },
 "nbformat": 4,
 "nbformat_minor": 5
}
